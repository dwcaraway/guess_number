{
 "cells": [
  {
   "cell_type": "code",
   "execution_count": 3,
   "metadata": {
    "collapsed": false,
    "deletable": true,
    "editable": true
   },
   "outputs": [],
   "source": [
    "import random\n",
    "from IPython.display import Image, HTML"
   ]
  },
  {
   "cell_type": "code",
   "execution_count": 4,
   "metadata": {
    "collapsed": true,
    "deletable": true,
    "editable": true
   },
   "outputs": [],
   "source": [
    "you_win_url = 'https://static.comicvine.com/uploads/original/4/49448/2243636-3239456630_c064f895b6.jpg'\n",
    "you_lose_url = 'http://www.shwiggie.com/dysfunctional/dh-m_10/acs134.jpg'\n",
    "close_url = 'http://www.veepy.com/wp-content/uploads/2015/05/21.png'"
   ]
  },
  {
   "cell_type": "code",
   "execution_count": null,
   "metadata": {
    "collapsed": false,
    "deletable": true,
    "editable": true
   },
   "outputs": [
    {
     "name": "stdout",
     "output_type": "stream",
     "text": [
      "Give me a number from 9 to 28 inclusive (or -1 to quit):22\n",
      "The secret number was 9\n",
      "You guessed: 22\n",
      "You did okay but didn't win, maybe next time?\n",
      "----------\n",
      "\n",
      "Give me a number from 4 to 21 inclusive (or -1 to quit):15\n",
      "The secret number was 7\n",
      "You guessed: 15\n",
      "You did okay but didn't win, maybe next time?\n",
      "----------\n",
      "\n",
      "Give me a number from 4 to 20 inclusive (or -1 to quit):7;\n",
      "That's not an integer!\n",
      "Give me a number from 5 to 22 inclusive (or -1 to quit):7589783489456796\n",
      "Hey, dat number iz too biiiiig!\n",
      "Give me a number from 7 to 24 inclusive (or -1 to quit):7\n",
      "The secret number was 12\n",
      "You guessed: 7\n",
      "That's a good guess. You're close, keep going!\n",
      "----------\n",
      "\n",
      "Give me a number from 8 to 27 inclusive (or -1 to quit):12\n",
      "The secret number was 16\n",
      "You guessed: 12\n",
      "That's a good guess. You're close, keep going!\n",
      "----------\n",
      "\n",
      "Give me a number from 7 to 23 inclusive (or -1 to quit):\n",
      "That's not an integer!\n",
      "Give me a number from 9 to 25 inclusive (or -1 to quit):7\n",
      "Hey, the number is too small!!!\n",
      "Give me a number from 8 to 26 inclusive (or -1 to quit):99\n",
      "Hey, dat number iz too biiiiig!\n",
      "Give me a number from 7 to 25 inclusive (or -1 to quit):31\n",
      "Hey, dat number iz too biiiiig!\n",
      "Give me a number from 3 to 20 inclusive (or -1 to quit):10\n",
      "The secret number was 6\n",
      "You guessed: 10\n",
      "You did okay but didn't win, maybe next time?\n",
      "----------\n",
      "\n",
      "Give me a number from 4 to 22 inclusive (or -1 to quit):65t\n",
      "That's not an integer!\n",
      "Give me a number from 3 to 20 inclusive (or -1 to quit):2;\n",
      "That's not an integer!\n",
      "Give me a number from 3 to 21 inclusive (or -1 to quit):\n",
      "That's not an integer!\n",
      "Give me a number from 8 to 27 inclusive (or -1 to quit):15\n",
      "The secret number was 12\n",
      "You guessed: 15\n",
      "You did okay but didn't win, maybe next time?\n",
      "----------\n",
      "\n",
      "Give me a number from 6 to 25 inclusive (or -1 to quit):12\n",
      "The secret number was 18\n",
      "You guessed: 12\n",
      "That's a good guess. You're close, keep going!\n",
      "----------\n",
      "\n",
      "Give me a number from 7 to 25 inclusive (or -1 to quit):\n",
      "That's not an integer!\n",
      "Give me a number from 6 to 21 inclusive (or -1 to quit):13\n",
      "The secret number was 16\n",
      "You guessed: 13\n",
      "That's a good guess. You're close, keep going!\n",
      "----------\n",
      "\n",
      "Give me a number from 9 to 26 inclusive (or -1 to quit):67\n",
      "Hey, dat number iz too biiiiig!\n",
      "Give me a number from 4 to 22 inclusive (or -1 to quit):24\n",
      "Hey, dat number iz too biiiiig!\n"
     ]
    }
   ],
   "source": [
    "while True:\n",
    "    min_number = random.randint(3, 9)\n",
    "    max_number = min_number + random.randint(15, 19)\n",
    "    \n",
    "    guessed_number = input(\"Give me a number from %s to %s inclusive (or -1 to quit):\" % (min_number, max_number))\n",
    "    \n",
    "    try:\n",
    "        guessed_number = int(guessed_number)\n",
    "    except:\n",
    "        print(\"That's not an integer!\")\n",
    "        continue\n",
    "    \n",
    "    if guessed_number == -1:\n",
    "        print(\"Goodbye!\")\n",
    "        break\n",
    "    \n",
    "    if guessed_number > max_number:\n",
    "        print(\"Hey, dat number iz too biiiiig!\")\n",
    "        continue\n",
    "    \n",
    "    if guessed_number < min_number:\n",
    "        print(\"Hey, the number is too small!!!\")\n",
    "        continue\n",
    "        \n",
    "    # Computer will generate a random number here\n",
    "    secret_number  = random.randint(min_number, max_number)\n",
    "\n",
    "    print(\"The secret number was %s\" % secret_number)\n",
    "    print(\"You guessed: %s\" % guessed_number)\n",
    "\n",
    "    if guessed_number < secret_number:\n",
    "        print(\"That's a good guess. You're close, keep going!\")\n",
    "    elif guessed_number == secret_number:\n",
    "        print(\"Exactly right! You're the best!!!!!\")\n",
    "    else:\n",
    "        print(\"You did okay but didn't win, maybe next time?\")\n",
    "    print('-'*10+\"\\n\")"
   ]
  }
 ],
 "metadata": {
  "kernelspec": {
   "display_name": "datasciencebook",
   "language": "python",
   "name": "python3"
  },
  "language_info": {
   "codemirror_mode": {
    "name": "ipython",
    "version": 3
   },
   "file_extension": ".py",
   "mimetype": "text/x-python",
   "name": "python",
   "nbconvert_exporter": "python",
   "pygments_lexer": "ipython3",
   "version": "3.6.0"
  }
 },
 "nbformat": 4,
 "nbformat_minor": 2
}
